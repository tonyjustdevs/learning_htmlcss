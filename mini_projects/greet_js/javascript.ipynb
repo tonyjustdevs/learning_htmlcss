{
 "cells": [
  {
   "cell_type": "markdown",
   "metadata": {},
   "source": [
    "# Lecture 2: Javascript (JS)"
   ]
  },
  {
   "cell_type": "markdown",
   "metadata": {
    "vscode": {
     "languageId": "html"
    }
   },
   "source": [
    "# 1. **form**: `onsubmit` attribute\n",
    "Allows for *running* a **javscript** function when an **form input** is *submitted*:\n",
    "* `onsubmit`: Upon clicking *submit*\n",
    "* `greet()`: **javascript** function is *run* \n",
    "* `return false`: but ***not submitted*** to server"
   ]
  },
  {
   "cell_type": "code",
   "execution_count": null,
   "metadata": {
    "vscode": {
     "languageId": "html"
    }
   },
   "outputs": [],
   "source": [
    "<form onsubmit=\"greet()\"; return false>\n",
    "    <!-- inputs -->\n",
    "</form>"
   ]
  },
  {
   "cell_type": "markdown",
   "metadata": {},
   "source": [
    "# 2. Javascript **function**: `greet()`\n",
    "* Lives inside `<script>` element\n",
    "* `alert()`: JS built-in function (pop-up in browser)"
   ]
  },
  {
   "cell_type": "code",
   "execution_count": null,
   "metadata": {
    "vscode": {
     "languageId": "html"
    }
   },
   "outputs": [],
   "source": [
    "<script>\n",
    "    function greet()\n",
    "    {\n",
    "        alert('gday mate')\n",
    "    }\n",
    "</script>"
   ]
  }
 ],
 "metadata": {
  "kernelspec": {
   "display_name": "htmlcss-Kr2MC5G1",
   "language": "python",
   "name": "python3"
  },
  "language_info": {
   "codemirror_mode": {
    "name": "ipython",
    "version": 3
   },
   "file_extension": ".py",
   "mimetype": "text/x-python",
   "name": "python",
   "nbconvert_exporter": "python",
   "pygments_lexer": "ipython3",
   "version": "3.12.4"
  }
 },
 "nbformat": 4,
 "nbformat_minor": 2
}
