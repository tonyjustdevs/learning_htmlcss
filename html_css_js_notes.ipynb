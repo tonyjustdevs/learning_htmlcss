{
 "cells": [
  {
   "cell_type": "markdown",
   "metadata": {},
   "source": [
    "# Lecture 1: HTML & CSS Basics"
   ]
  },
  {
   "cell_type": "markdown",
   "metadata": {},
   "source": [
    "### Basics\n",
    "1. **Routers**: computers (or servers) that *route* information from one point to another (typically in data centers / warehouses, lots of cables and special software for *routing*):  \n",
    "    * E.g. When this server receives and email / webpage etc, it needs to decide where to move it to (via software)\n",
    "    * E.g. If one student sends email to another student: \n",
    "        - Senders may put the message into a special *envelope*\n",
    "        - then pass it to next connected person (router 1)\n",
    "        - who passes it on to next connected person (router 2) and so forth until receiver gets the envelope\n",
    "    * How do routers make these \\ decisions? \n",
    "        - It's determined all *dynamically* via software"
   ]
  },
  {
   "cell_type": "markdown",
   "metadata": {},
   "source": [
    "# A. **Internet Protocol** (IP): The ***Addressing*** of everything"
   ]
  },
  {
   "cell_type": "markdown",
   "metadata": {},
   "source": [
    "1. **TCP/IP**: The language that routers speak.\n",
    "1. **IP** (Internet Protocol): The *language* (or protocol) computers speak to **send information** to each other:\n",
    "    * Specifically **servers** of the world\n",
    "    * Procotol is a set of conventions.\n",
    "    * E.g. *Human Protocol*: When someone extend their hand out to greet you, by convention, you will typicall shake their hand with yours)\n",
    "    * **IP** addresses: `#.#.#.#` or `IPv4`\n",
    "        - All devices connected to the internet has an unique IP address\n",
    "        - Each `#` is an integers from 0 to 255 or 8 bits or 1 byte\n",
    "            - [8 bits].[8 bits].[8 bits].[8 bits] or 32 bits or or $2^{32}$\n",
    "            - [1 byte].[1 byte].[1 byte].[1 byte] or 4 bytes in total\n",
    "            - 255.255.255.255 total address or $255^4$ or `4,228,250,625`\n",
    "\n"
   ]
  },
  {
   "cell_type": "markdown",
   "metadata": {},
   "source": [
    "1. Internet Datagram Header Example\n",
    "![](imgs/datagramheader.png)"
   ]
  },
  {
   "cell_type": "markdown",
   "metadata": {},
   "source": [
    "**Source** & **Destination**  Address are useful (E.g.g letter with **to** and **from**): \n",
    "* Useful information to be passed from router to router enroute to the final destination\n",
    "* The path taken might not be the *fastest* or *shortest* but: \n",
    "    * may be business related (keeping message the same Internet Server Provider (ISP) \n",
    "    * to avoid fees related to using a different route"
   ]
  },
  {
   "cell_type": "markdown",
   "metadata": {},
   "source": [
    "# B. **TCP** (IP): ***Guaranteeing*** the **delivery** of everything\n",
    "\n",
    "Two Main Properties:\n",
    "\n",
    "* Sequence Numbers\n",
    "* Port Numbers"
   ]
  },
  {
   "cell_type": "markdown",
   "metadata": {},
   "source": [
    "TCP provides protocol for: \n",
    "\n",
    "1. `sequence` numbers:\n",
    "    * ***Acknowledgement*** the **number of packets** (or envelopes or *sequences numbers*) when information is sent.\n",
    "    * Allowing **receiver** to *infer* if any missing information and allow to acknowledge back to **sender** if everything is okay or not"
   ]
  },
  {
   "cell_type": "markdown",
   "metadata": {},
   "source": [
    "2. `ports` numbers: \n",
    "    * A unique numeric identifier for a specific internet service, or the standardisation of these port numbers:\n",
    "    * E.g. services or applications running on top of the physical infrastructure of the internet: email, www, video-conferencing, streaming-media, etc.\n",
    "    * Sample port numbers and their associated service:\n",
    "    \n",
    "    | port  | acronym | internet service / application description|\n",
    "    |-------|---------|-----------------------------------------|\n",
    "    | `80`  | `HTTP`  | world wide web traffic |\n",
    "    | `443` | `HTTPS` | world wide web traffic securely sent|\n",
    "    | `25`  | `email` | email |\n",
    "    | `53`  | `DNS`   | DNS |\n",
    "    | `...` | `...`   | ... |  "
   ]
  },
  {
   "cell_type": "markdown",
   "metadata": {},
   "source": [
    "3. `port` numbers example - **A** requesting from **B**:\n",
    "* **A** (a **web-browser** or terminal and the *sender*) \n",
    "    - **requests a web-page** or sends an envelope delivery to\n",
    "    - Destination Address **[IP:port]**: \n",
    "        - `[6.9.6.9:80]` (web-server ip [6.9.6.9])\n",
    "        - `port 80` is `HTTP`\n",
    "* **B** (**Server** and the *recipient*)   \n",
    "    - Note: a single ***server*** can handle multiple things:\n",
    "        - email, web, video-conferencing\n",
    "        - the ***port number allows server which type of service should be handling this inbound request***\n",
    "    - port `80` indicates to the ***server*** that the request is destined for the `web-server` (or `http-server`) within **B**'s network or running at this location (or ip address).\n",
    "\n",
    "4. `TCP` - envelope representation includes:\n",
    "* **Source** port and **Destination** port provided by sender:\n",
    "    - Required to allow recipient ability to respond back to the sender specifically"
   ]
  },
  {
   "cell_type": "markdown",
   "metadata": {},
   "source": [
    "![](imgs/tcpheader.png)"
   ]
  },
  {
   "cell_type": "markdown",
   "metadata": {},
   "source": [
    "# B. **Domain Name System** Servers (DNS): Translate Domain Names to IP Addresses\n",
    "Typically lives in:\n",
    "* ISP network\n",
    "* University Campus or\n",
    "* Company Office\n",
    "\n",
    "Properties:\n",
    "* Hierarachical, if the DNS server cant find the Domain, it will ask another DNS Server."
   ]
  },
  {
   "cell_type": "markdown",
   "metadata": {},
   "source": [
    "# C. **Dynamic Host Configuration Protocol** Servers (DHCP): \n",
    "\n",
    "`DHCP Servers`: \n",
    "* dynamically gives your computer an IP address\n",
    "* DHCP Servers will broadcast \"What is my IP address?\":\n",
    "    * Nearby network/servers (home, company, campus, ISP), will provide you your ip address.\n",
    "    * The ISP (or people running the servers, i.e. system adminstrators) determines the rules at which ip address are assigned and who gets what numbers.\n",
    "* Provides you the (deafult) DNS server(s) to use:\n",
    "    * providing your computer the ip address of 1 or multiple DNS servers for you to use.\n",
    "* Provides you your default gateway (default router):\n",
    "    * router to use by default (to send requests, hand off data from a to b)"
   ]
  },
  {
   "cell_type": "markdown",
   "metadata": {},
   "source": [
    "# D. **Hypter Text Transfer Protocol** (HTTP): \n",
    "A protocol that governs how **web-browser** and **web-servers** ***inter-communicate***.\n",
    "\n",
    "## D1. **Uniform Reource Locations** (URLs)\n",
    "`https://www.example.com/`\n",
    "`https://www.example.com/file.html`\n",
    "\n",
    "* `www` - the server (typicaly a collection, 100-1000s if you're Google)\n",
    "* `example.com` - host name\n",
    "* `.com`, `au`- top-level domain (tld)\n",
    "* `file.html` - file at the server\n",
    "* `/` - default page\n",
    "* `html` - hyper text markup language (language in which webpages are written)\n",
    "\n",
    "## D2. `HTTP/HTTPs`\n",
    "Dictates the protocol used when web-browser requests a web-page at that (URL) address with a **standardised** the message sent.\n",
    "\n",
    "Standardised Verbs (GET, POST, UPDATE, DELETE):\n",
    "**GET**:   \n",
    "\n",
    "    GET / HTTP/2 \n",
    "    Host: www.harvard.edu\n",
    "    ..."
   ]
  },
  {
   "cell_type": "code",
   "execution_count": 7,
   "metadata": {},
   "outputs": [
    {
     "name": "stdout",
     "output_type": "stream",
     "text": [
      "HTTP/1.1 200 OK\n",
      "Server: nginx\n",
      "Date: Wed, 12 Mar 2025 21:28:57 GMT\n",
      "Content-Type: text/html; charset=UTF-8\n",
      "Connection: keep-alive\n",
      "Vary: Accept-Encoding\n",
      "Host-Header: a9130478a60e5f9135f765b23f26593b\n",
      "Link: <https://www.harvard.edu/>; rel=shortlink\n",
      "x-rq: sin1 123 243 443\n",
      "accept-ranges: bytes\n",
      "x-cache: HIT\n",
      "cache-control: max-age=300, must-revalidate\n",
      "\n"
     ]
    },
    {
     "name": "stderr",
     "output_type": "stream",
     "text": [
      "  % Total    % Received % Xferd  Average Speed   Time    Time     Time  Current\n",
      "                                 Dload  Upload   Total   Spent    Left  Speed\n",
      "\n",
      "  0     0    0     0    0     0      0      0 --:--:-- --:--:-- --:--:--     0\n",
      "  0     0    0     0    0     0      0      0 --:--:-- --:--:-- --:--:--     0\n"
     ]
    }
   ],
   "source": [
    "!curl -I https://www.harvard.edu/"
   ]
  },
  {
   "cell_type": "code",
   "execution_count": 10,
   "metadata": {},
   "outputs": [
    {
     "name": "stdout",
     "output_type": "stream",
     "text": [
      "HTTP/1.1 301 Moved Permanently\n",
      "Server: nginx\n",
      "Date: Wed, 12 Mar 2025 21:41:26 GMT\n",
      "Content-Type: text/html\n",
      "Content-Length: 162\n",
      "Connection: keep-alive\n",
      "Location: https://harvard.edu/\n",
      "x-rq: sin1 \n",
      "\n"
     ]
    },
    {
     "name": "stderr",
     "output_type": "stream",
     "text": [
      "  % Total    % Received % Xferd  Average Speed   Time    Time     Time  Current\n",
      "                                 Dload  Upload   Total   Spent    Left  Speed\n",
      "\n",
      "  0     0    0     0    0     0      0      0 --:--:-- --:--:-- --:--:--     0\n",
      "  0     0    0     0    0     0      0      0 --:--:-- --:--:-- --:--:--     0\n",
      "  0   162    0     0    0     0      0      0 --:--:-- --:--:-- --:--:--     0\n"
     ]
    }
   ],
   "source": [
    "!curl -I http://harvard.edu/\n"
   ]
  },
  {
   "cell_type": "code",
   "execution_count": 11,
   "metadata": {},
   "outputs": [
    {
     "name": "stdout",
     "output_type": "stream",
     "text": [
      "HTTP/1.1 301 Moved Permanently\n",
      "Server: nginx\n",
      "Date: Wed, 12 Mar 2025 21:41:33 GMT\n",
      "Content-Type: text/html; charset=utf-8\n",
      "Connection: keep-alive\n",
      "Location: https://www.harvard.edu/\n",
      "x-rq: sin1 123 242 443\n",
      "x-cache: HIT\n",
      "\n"
     ]
    },
    {
     "name": "stderr",
     "output_type": "stream",
     "text": [
      "  % Total    % Received % Xferd  Average Speed   Time    Time     Time  Current\n",
      "                                 Dload  Upload   Total   Spent    Left  Speed\n",
      "\n",
      "  0     0    0     0    0     0      0      0 --:--:-- --:--:-- --:--:--     0\n",
      "  0     0    0     0    0     0      0      0 --:--:-- --:--:-- --:--:--     0\n"
     ]
    }
   ],
   "source": [
    "!curl -I https://harvard.edu/"
   ]
  },
  {
   "cell_type": "code",
   "execution_count": 12,
   "metadata": {},
   "outputs": [
    {
     "name": "stdout",
     "output_type": "stream",
     "text": [
      "HTTP/1.1 301 Moved Permanently\n",
      "Server: Sun-ONE-Web-Server/6.1\n",
      "Date: Wed, 12 Mar 2025 21:43:56 GMT\n",
      "Content-length: 122\n",
      "Content-type: text/html\n",
      "Location: http://www.yale.edu\n",
      "Connection: close\n",
      "\n"
     ]
    },
    {
     "name": "stderr",
     "output_type": "stream",
     "text": [
      "  % Total    % Received % Xferd  Average Speed   Time    Time     Time  Current\n",
      "                                 Dload  Upload   Total   Spent    Left  Speed\n",
      "\n",
      "  0     0    0     0    0     0      0      0 --:--:-- --:--:-- --:--:--     0\n",
      "  0     0    0     0    0     0      0      0 --:--:-- --:--:-- --:--:--     0\n",
      "  0   122    0     0    0     0      0      0 --:--:--  0:00:01 --:--:--     0\n"
     ]
    }
   ],
   "source": [
    "!curl -I http://safetyschool.org\n"
   ]
  },
  {
   "cell_type": "markdown",
   "metadata": {},
   "source": [
    "## D3. HTML\n",
    "Just text in a file ending `.html`\n",
    "* Tells browser what it shoud do upon receiving an message or packet or (envelope) containing this ***content*** or message (or text), how to show this html content? \n",
    "    - Place this content on a web server\n",
    "    - Recall, a server can have multiple servers (services), thus it can be a web-server, video conferencing server, or even multiple web-servers (just need unique port numbers)\n",
    "**TAGS** and **ATTRIBUTES**\n",
    "\n",
    "# D4. Sending Data to Backend \n",
    "`https://www.google.com/search?q=cats`: Allows to send a **GET** request to domain `google.com` to process.\n",
    "\n",
    "Use a `form` tag:\n",
    "* `action` attribute = 'https://www.google.com/search'\n",
    "* `type` attribute = 'search'"
   ]
  },
  {
   "cell_type": "markdown",
   "metadata": {
    "vscode": {
     "languageId": "html"
    }
   },
   "source": [
    "## D5. `Form Attributes`\n",
    "`<form>` element is container for `<input>` elements:\n",
    "* `<input>` element (e.g. text fields, checkbxoes)\n",
    "* `name`\n",
    "* `type`\n",
    "* `autofocus`\n",
    "* `autocomplete`\n",
    "* `placeholder`"
   ]
  },
  {
   "cell_type": "markdown",
   "metadata": {},
   "source": [
    "# E. Regular Expressions (Regex)\n",
    "`input` `attribute`: `pattern` = 'some regex pattern'\n",
    "\n",
    "|pattern    | description               |\n",
    "|-----------|---------------------------|\n",
    "|`.`        | any single char           |\n",
    "|`*`        | `0` <= times              |\n",
    "|`+`        | `1` <= times              |\n",
    "|`?`        | `0` or `1` times          |\n",
    "|`{n}`      | `n` occurences            |\n",
    "|`{n,m}`    | `n` <= times <= `m`       |\n",
    "|`[01..9]`  | any of enclosed chrs      |\n",
    "|`[0-9]`    | any of range of chrs      |\n",
    "|`\\d`       | any digit                 |\n",
    "|`\\D`       | any chr that is not digit |"
   ]
  },
  {
   "cell_type": "markdown",
   "metadata": {},
   "source": []
  },
  {
   "cell_type": "markdown",
   "metadata": {},
   "source": []
  }
 ],
 "metadata": {
  "kernelspec": {
   "display_name": "htmlcss-Kr2MC5G1",
   "language": "python",
   "name": "python3"
  },
  "language_info": {
   "codemirror_mode": {
    "name": "ipython",
    "version": 3
   },
   "file_extension": ".py",
   "mimetype": "text/x-python",
   "name": "python",
   "nbconvert_exporter": "python",
   "pygments_lexer": "ipython3",
   "version": "3.12.4"
  }
 },
 "nbformat": 4,
 "nbformat_minor": 2
}
