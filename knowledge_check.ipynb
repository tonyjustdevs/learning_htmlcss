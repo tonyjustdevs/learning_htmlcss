{
 "cells": [
  {
   "cell_type": "markdown",
   "metadata": {},
   "source": [
    "# Lecture 1: HTML & CSS Basics"
   ]
  },
  {
   "cell_type": "markdown",
   "metadata": {},
   "source": [
    "### 1. HTTP\n",
    "1.  What are **routers**? Give real world sample of how it may work.\n",
    "    * Computers or servers that *route* information to other routers\n",
    "1.  What *language* do routers speak?\n",
    "    * TCP/IP\n",
    "1.  How to connect to URL via terminal?\n",
    "    * `curl -I https//:www.harvard.edu`\n",
    "1.  Other `curl` parameters?\n",
    "1.  What is the `/` trailing slash?\n",
    "    * default page\n",
    "1.  What is **top level domain** (tld)?\n",
    "    * `au`, `us`, `hk`, `sg`, and `ai` etc\n",
    "1.  What is **HTTP/HTTPs**?\n",
    "    * Two types of protocols for **web-browsers** to *interact* with **web-servers**\n",
    "1.  What is a **position numerical system**?\n",
    "    * A representation on how to count from 0 onwards\n",
    "        - typically reading from right to left\n",
    "1.  What is **unary** notation?\n",
    "    * A numerical system for which each position represents (increments) the integer by 1\n",
    "    * E.g.  \n",
    "1.  How high can you count with **unary** on one hand?\n",
    "1.  What is a **binary digit** (bit)? How is it represented? \n",
    "    * Data Stucture for which only takes on values: `0` or `1`\n",
    "1. Create a table representing the binary system, showing position, base, min, max and cumulative max values  for 8-bits (1-byte)?    \n",
    "    |Position   |7          |6          |5          |4          |3          |2          |1          |0          |\n",
    "    |-----------|------     |-------    |-------    |-------    |-------    |-------    |-------    |-------    |\n",
    "    |Base-2     |$2^7$      |$2^6$      |$2^5$      |$2^4$      |$2^3$      |$2^2$      |$2^1$      |$2^0$      |\n",
    "    |Values     |`128` or 0 |`64` or 0  |`32` or 0  |`16` or 0  |`8` or 0   |`4` or 0   |`2` or 0   |`1` or 0   |\n",
    "    |Cum-Sum-Max|`255`      |`127`      |`63`       |`31`       |`15`       |`7`        |`3`        |`1`        |\n",
    "1. Show value `255` in 8-bits and show the calcuation of individual bits to calculate the value.  \n",
    "    * `11111111` = `128` + `64` + `32` + `16` + `8` + `4` + `2` + `1`\n",
    "1. Verify the calculation with Python "
   ]
  },
  {
   "cell_type": "code",
   "execution_count": null,
   "metadata": {},
   "outputs": [],
   "source": []
  },
  {
   "cell_type": "code",
   "execution_count": null,
   "metadata": {},
   "outputs": [],
   "source": []
  },
  {
   "cell_type": "code",
   "execution_count": null,
   "metadata": {},
   "outputs": [],
   "source": []
  },
  {
   "cell_type": "code",
   "execution_count": null,
   "metadata": {},
   "outputs": [],
   "source": []
  },
  {
   "cell_type": "markdown",
   "metadata": {},
   "source": [
    "1.  What is **developer tools**?`\n",
    "1.  What is **view page source**?"
   ]
  },
  {
   "cell_type": "code",
   "execution_count": null,
   "metadata": {},
   "outputs": [
    {
     "name": "stdout",
     "output_type": "stream",
     "text": [
      "0 1 1\n",
      "0 2 3\n",
      "0 4 7\n",
      "0 8 15\n",
      "0 16 31\n",
      "0 32 63\n",
      "0 64 127\n",
      "0 128 255\n"
     ]
    }
   ],
   "source": []
  },
  {
   "cell_type": "markdown",
   "metadata": {},
   "source": [
    "\n",
    "### 2. Tags & Attributes\n",
    "\n",
    "    "
   ]
  },
  {
   "cell_type": "markdown",
   "metadata": {
    "vscode": {
     "languageId": "html"
    }
   },
   "source": [
    "`<form>` element is container for `<input>` elements:\n",
    "* `<input>` element (e.g. text fields, checkbxoes)\n",
    "* `name`\n",
    "* `type`\n",
    "* `autofocus`\n",
    "* `autocomplete`\n",
    "* `placeholder`"
   ]
  }
 ],
 "metadata": {
  "kernelspec": {
   "display_name": "htmlcss-Kr2MC5G1",
   "language": "python",
   "name": "python3"
  },
  "language_info": {
   "codemirror_mode": {
    "name": "ipython",
    "version": 3
   },
   "file_extension": ".py",
   "mimetype": "text/x-python",
   "name": "python",
   "nbconvert_exporter": "python",
   "pygments_lexer": "ipython3",
   "version": "3.12.4"
  }
 },
 "nbformat": 4,
 "nbformat_minor": 2
}
