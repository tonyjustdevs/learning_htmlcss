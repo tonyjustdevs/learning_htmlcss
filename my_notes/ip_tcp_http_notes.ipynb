{
 "cells": [
  {
   "cell_type": "markdown",
   "metadata": {},
   "source": [
    "# 1. Internet Protocol (IP)\n",
    "**Internet**: Interconnected network comparised of smaller networks interwover together & agreeing to communicate with one another:\n",
    "\n",
    "**Internet Protocol** (IP): The protocol that *moves* information from a sending *machine* to a *receiving* machine, through the *network*.\n",
    "- *Problem*: Connecting (wired) every network to every network is a tough and impossible task.\n",
    "- *Solution*: The use of the **Router** (actually many routers), as intermediaries, each router connects to other nearby routers.\n",
    "    - Each router has instructions (built-in) on how to move information towards destination\n",
    "    - Information in a routing table (inside router)\n",
    "- *Benefit*: On large scales, dramatically decrease cost of network infrastructure\n",
    "- *Cost*: On small scales, less efficient than direct connections\n",
    "- *How*: In reality, the data (sending email, FTP file transfer, web browser request) is not sent as *one block* but rather, ***split into*** **packets**.\n",
    "    - *Why* packets: Analogous to packets are cars and blocks are trucks. A single large truck is slow could slow down a whole road, whilst having many smaller cars may be more efficient to move loads.\n",
    "- *Connectionless* protocol: Not necessarily a defined path form sender to receiver & vice versa.\n",
    "    - *Benefit*: Traffice may be ***re-routed*** based on *current state* of the network (clogging on certain paths, take other more optimal routes instead). It's analogous to a GPS telling a driver there is traffic ahead and suggesting a *longer but less congested* way.\n",
    "* *Not a Solution*: \n",
    "    - Question: What if a ***packet is dropped***? A small car carrying load has an accident, what happens to this load? Note: \n",
    "    - Not the Answer: **IP does not guarantee delivery**.\n",
    "    - Answer: The job to *guarantee delivery* is for the **Tranmission Communication Protocol** (TCP).\n",
    "\n"
   ]
  },
  {
   "cell_type": "markdown",
   "metadata": {},
   "source": [
    "# 2. Tranmission Communication Protocol (TCP):\n",
    "Recall, IP is the protocol:\n",
    "- ***moves*** *information*\n",
    "- from *a ***sending*** machine*\n",
    "- to *a ***receiving*** machine*\n",
    "- ***through*** *the network*\n",
    "\n",
    "That is, the information between ONE machine (or computers) and another ONE other machine.\n",
    "\n",
    "However, our computers have multiple programs (or services) running at once. \n",
    "\n",
    "More information beyond those provided by IP is required in order to move: \n",
    "- a ***specific packet*** to (or information or data)\n",
    "- a ***specific program*** (or service or utility)\n",
    "- on a ***specific machine*** (or computer or device)\n",
    "\n",
    "This is where  **Tranmission Communication Protocol** (TCP) comes in."
   ]
  },
  {
   "cell_type": "markdown",
   "metadata": {},
   "source": [
    "# 3.1 **Tranmission Communication Protocol** (TCP): is the protocol to describe\n",
    "- the ***directing*** of \n",
    "- **specific transmitted packets** to the \n",
    "- **specific program or services**\n",
    "- on the **specific machine** (or computer or device, these are determined by IP) \n",
    "- and **guarantees deliver** of packets (more later)."
   ]
  },
  {
   "cell_type": "markdown",
   "metadata": {},
   "source": [
    "# 3.2 **TCP/IP**: \n",
    "Understandably, its important to know for a specific packet:\n",
    "- where it needs to go (IP) (the correct )\n",
    "- whats it for (TCP) (the correct service/program)\n",
    "\n",
    "Thus, the pair are so interrelated, it's often called **TCP/IP** and treated as a single unit, however they do indeed provided seperate functionality."
   ]
  },
  {
   "cell_type": "markdown",
   "metadata": {},
   "source": [
    "# 3.3 **Port Number**\n",
    "Each program (or service or utility) on a machine is assigned a **port number**.\n",
    "\n",
    "Unique Identifier: The IP address + Port Number allows us to \n",
    "- ***uniquely identify***\n",
    "- a **specific program** on \n",
    "- a **specific machine**"
   ]
  },
  {
   "cell_type": "markdown",
   "metadata": {},
   "source": [
    "# 3.4 **Guarantees Deliver**\n",
    "TCP ***guarantees delivery*** of packets by including information about:\n",
    "- how many packets the receive should expect (how many packets IP has split it into)\n",
    "- the ordering of packets (TCP orders them)\n",
    "    - the order and received may be different since IP is a connectionless protocol, each packet can take a unique  paths through the system/network\n",
    "- the data itself"
   ]
  },
  {
   "cell_type": "markdown",
   "metadata": {},
   "source": [
    "# 3.5 Common Port Numbers\n",
    "The following port numbers (are so common that they) are standarised acorss all computers:\n",
    "- `21`: **FTP** - file-transfer\n",
    "- `25`: **SMTP** - email\n",
    "- `53`: **DNS** - Domain Name Something?\n",
    "- `80`: **HTTP** - web-browsing\n",
    "- `443`: **HTTPS** - secure web-browsing\n"
   ]
  },
  {
   "cell_type": "code",
   "execution_count": null,
   "metadata": {},
   "outputs": [],
   "source": [
    "j"
   ]
  },
  {
   "cell_type": "code",
   "execution_count": null,
   "metadata": {},
   "outputs": [],
   "source": []
  },
  {
   "cell_type": "code",
   "execution_count": null,
   "metadata": {},
   "outputs": [],
   "source": []
  },
  {
   "cell_type": "code",
   "execution_count": null,
   "metadata": {},
   "outputs": [],
   "source": []
  },
  {
   "cell_type": "code",
   "execution_count": null,
   "metadata": {},
   "outputs": [],
   "source": []
  },
  {
   "cell_type": "code",
   "execution_count": null,
   "metadata": {},
   "outputs": [],
   "source": [
    "# 3. Hypertext Transfer Protocol (HTTP)\n"
   ]
  }
 ],
 "metadata": {
  "kernelspec": {
   "display_name": "htmlcss-Kr2MC5G1",
   "language": "python",
   "name": "python3"
  },
  "language_info": {
   "codemirror_mode": {
    "name": "ipython",
    "version": 3
   },
   "file_extension": ".py",
   "mimetype": "text/x-python",
   "name": "python",
   "nbconvert_exporter": "python",
   "pygments_lexer": "ipython3",
   "version": "3.12.4"
  }
 },
 "nbformat": 4,
 "nbformat_minor": 2
}
