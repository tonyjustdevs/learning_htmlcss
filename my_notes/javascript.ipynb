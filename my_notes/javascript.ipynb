{
 "cells": [
  {
   "cell_type": "markdown",
   "metadata": {},
   "source": [
    "# Lecture 2: Javascript (JS)"
   ]
  },
  {
   "cell_type": "markdown",
   "metadata": {
    "vscode": {
     "languageId": "html"
    }
   },
   "source": [
    "# 1. HTML **form**: `onsubmit` attribute\n",
    "\n",
    "Note: This is ***NOT Javscript***, but later we will replicate functionality ***WITH JAVASCRIPT***\n",
    "\n",
    "Allows for *running* a **javscript** function when an **form input** is *submitted*:\n",
    "* `onsubmit`: Upon clicking *submit*\n",
    "* `greet()`: **javascript** function is *run* \n",
    "* `return false`: but ***not submitted*** to server"
   ]
  },
  {
   "cell_type": "code",
   "execution_count": null,
   "metadata": {
    "vscode": {
     "languageId": "html"
    }
   },
   "outputs": [],
   "source": [
    "<form onsubmit=\"greet()\"; return false>\n",
    "    <!-- inputs -->\n",
    "</form>"
   ]
  },
  {
   "cell_type": "markdown",
   "metadata": {},
   "source": [
    "# 2. JS *Built-Ins*: **Functions** & **Variables**\n",
    "\n",
    "Built-in JS **Variables**:\n",
    "* `document`: *Global* JS variable (also \"DOM\")\n",
    "* `document.querySelector`: The *method* with (same) CSS-style selection\n",
    "* `document.querySelector(type).value`: Obtain *value* at the type\n",
    "* `let` `some_js_variable` `=...`: Creates a JS variable and assigns to it\n",
    "\n",
    "Built-in JS **Functions**:\n",
    "* `alert()` : *pop-up* in-browser\n",
    "* `alert('gday' + some_js_variable)` : *pop-up* says 'gday tony' (if user *submits* 'tony' and `form` tag `onsubmit` with *custom js function* with the `alert(...)`)\n",
    "* `function greet_custom_js(){ alert(...) }`: create *custom js function* to `alert(...)`\n",
    "* `querySelector()`: Select `HTML` element type via `id`, `name`, `class`, `tag` or other...\n",
    "\n",
    "`querySelector()` Table:\n",
    "\n",
    "- |Select HTML Element| Javscript Code|\n",
    "    |----------------|-----|\n",
    "    |By `HTML` [**`id`**]     | `document.querySelector(\"#some_html_id\")`|\n",
    "    |By `HTML` [**`class`**]  | `document.querySelector(\".some_html_class\")`|\n",
    "    |By `HTML` [**`tag`**]    | `document.querySelector(\"some_html_tag\")`|\n"
   ]
  },
  {
   "cell_type": "code",
   "execution_count": null,
   "metadata": {
    "vscode": {
     "languageId": "html"
    }
   },
   "outputs": [],
   "source": [
    "<head>\n",
    "    <script>\n",
    "    function greet()\n",
    "    {\n",
    "        let some_js_variable = document.querySelector(\"#some_html_id\")\n",
    "        alert('gday' + some_js_variable)\n",
    "    }\n",
    "    </script>\n",
    "</head>"
   ]
  },
  {
   "cell_type": "markdown",
   "metadata": {
    "vscode": {
     "languageId": "html"
    }
   },
   "source": [
    "# 3. JS Replication Of `form onsubmit = ...`"
   ]
  },
  {
   "cell_type": "code",
   "execution_count": null,
   "metadata": {
    "vscode": {
     "languageId": "html"
    }
   },
   "outputs": [],
   "source": [
    "<body>\n",
    "    <form>\n",
    "        ...<input type=\"text\">... (as above)\n",
    "    </form>\n",
    "    <script>\n",
    "        function js_custom_gday_fn\n",
    "        {\n",
    "            alert('gday mateys')\n",
    "        }\n",
    "        let form_js_variable = document.querySelector(\"form\")\n",
    "        form_js_variable.addEventListener(\"submit\", js_custom_gday_fn)\n",
    "    </script>\n",
    "</body>"
   ]
  },
  {
   "cell_type": "code",
   "execution_count": null,
   "metadata": {
    "vscode": {
     "languageId": "html"
    }
   },
   "outputs": [],
   "source": []
  },
  {
   "cell_type": "code",
   "execution_count": null,
   "metadata": {
    "vscode": {
     "languageId": "html"
    }
   },
   "outputs": [],
   "source": []
  },
  {
   "cell_type": "code",
   "execution_count": null,
   "metadata": {
    "vscode": {
     "languageId": "html"
    }
   },
   "outputs": [],
   "source": []
  },
  {
   "cell_type": "code",
   "execution_count": null,
   "metadata": {
    "vscode": {
     "languageId": "html"
    }
   },
   "outputs": [],
   "source": []
  },
  {
   "cell_type": "code",
   "execution_count": null,
   "metadata": {
    "vscode": {
     "languageId": "html"
    }
   },
   "outputs": [],
   "source": []
  },
  {
   "cell_type": "code",
   "execution_count": null,
   "metadata": {
    "vscode": {
     "languageId": "html"
    }
   },
   "outputs": [],
   "source": []
  },
  {
   "cell_type": "code",
   "execution_count": null,
   "metadata": {
    "vscode": {
     "languageId": "html"
    }
   },
   "outputs": [],
   "source": []
  },
  {
   "cell_type": "code",
   "execution_count": null,
   "metadata": {
    "vscode": {
     "languageId": "html"
    }
   },
   "outputs": [],
   "source": []
  }
 ],
 "metadata": {
  "kernelspec": {
   "display_name": "htmlcss-Kr2MC5G1",
   "language": "python",
   "name": "python3"
  },
  "language_info": {
   "codemirror_mode": {
    "name": "ipython",
    "version": 3
   },
   "file_extension": ".py",
   "mimetype": "text/x-python",
   "name": "python",
   "nbconvert_exporter": "python",
   "pygments_lexer": "ipython3",
   "version": "3.12.4"
  }
 },
 "nbformat": 4,
 "nbformat_minor": 2
}
